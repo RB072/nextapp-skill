{
 "cells": [
  {
   "cell_type": "markdown",
   "metadata": {},
   "source": [
    "# Dokumentation MyCroft AI "
   ]
  },
  {
   "cell_type": "markdown",
   "metadata": {},
   "source": [
    "## Verfasser Philipp Umscheid, Rainer Bürg \n",
    "\n",
    "## Bedschreibung der Aufgabe: "
   ]
  },
  {
   "cell_type": "markdown",
   "metadata": {},
   "source": [
    "Ein eigener Skill: \"What's my next appointment?\"\n",
    "Die Mycrof.ai Webseite enthält eine gute Anleitung zur Erstellung eigener Skills: https://mycroft-ai.gitbook.io/docs/skill-development/voice-user-interface-design-guidelines\n",
    "Machen Sie sich also zunächst mit dem Hintergrund der Skill-Entwicklung vertraut (aka rtfmf). Wenn Sie das Gefühl haben, dass Sie es nicht mehr erwarten können, einen eigenen Skill zu entwickeln (bzw. Sie am Ende des Semsters Ihre Prüfungsleitung bestehen wollen), dann beginnen Sie die Entwicklung des folgenden Skills.\n",
    "\n",
    "\n",
    "Was soll möglich werden?\n",
    "Nehmen wir an, dass ein Kunde seine Termine im Calendar-PlugIn des nextcloud-Systems verwaltet (wie zum Beispiel der Autor dieser Zeilen). Er möchte gerne folgende Interaktion realisiert bekommen:\n",
    "\n",
    "Mensch: \"Hey Jarvis, what's my next appointment?\"\n",
    "\n",
    "Jarvis: \"Your next appointment is on June 22, 2020 at 4 pm and is entitled Speech Interaction class.\""
   ]
  },
  {
   "cell_type": "markdown",
   "metadata": {},
   "source": [
    "### Umsetzung der Aufgbae "
   ]
  },
  {
   "cell_type": "markdown",
   "metadata": {},
   "source": [
    "1. Durchführung des Nextcloud Kalendaraufrufes über die Datei \"caldav_nextcloud_starterpy.py\"\n",
    "\n",
    "1.1 Herstellung der Verbindung über die Initilaien des SI-Studierenden"
   ]
  },
  {
   "cell_type": "code",
   "execution_count": 1,
   "metadata": {},
   "outputs": [
    {
     "ename": "NameError",
     "evalue": "name 'username' is not defined",
     "output_type": "error",
     "traceback": [
      "\u001b[1;31m---------------------------------------------------------------------------\u001b[0m",
      "\u001b[1;31mNameError\u001b[0m                                 Traceback (most recent call last)",
      "\u001b[1;32m<ipython-input-1-cc34836c2ecf>\u001b[0m in \u001b[0;36m<module>\u001b[1;34m\u001b[0m\n\u001b[0;32m      1\u001b[0m \u001b[1;31m# Verbindungsaufbau zur Nextcloud der Veranstaltung SI20/21\u001b[0m\u001b[1;33m\u001b[0m\u001b[1;33m\u001b[0m\u001b[1;33m\u001b[0m\u001b[0m\n\u001b[1;32m----> 2\u001b[1;33m \u001b[0murl\u001b[0m \u001b[1;33m=\u001b[0m \u001b[1;34m\"https://\"\u001b[0m \u001b[1;33m+\u001b[0m \u001b[0musername\u001b[0m \u001b[1;33m+\u001b[0m \u001b[1;34m\":\"\u001b[0m \u001b[1;33m+\u001b[0m \u001b[0mpassword\u001b[0m \u001b[1;33m+\u001b[0m \u001b[1;34m\"@next.social-robot.info/nc/remote.php/dav\"\u001b[0m\u001b[1;33m\u001b[0m\u001b[1;33m\u001b[0m\u001b[0m\n\u001b[0m\u001b[0;32m      3\u001b[0m \u001b[1;31m# open connection to calendar\u001b[0m\u001b[1;33m\u001b[0m\u001b[1;33m\u001b[0m\u001b[1;33m\u001b[0m\u001b[0m\n\u001b[0;32m      4\u001b[0m \u001b[0mclient\u001b[0m \u001b[1;33m=\u001b[0m \u001b[0mcaldav\u001b[0m\u001b[1;33m.\u001b[0m\u001b[0mDAVClient\u001b[0m\u001b[1;33m(\u001b[0m\u001b[0murl\u001b[0m\u001b[1;33m)\u001b[0m\u001b[1;33m\u001b[0m\u001b[1;33m\u001b[0m\u001b[0m\n\u001b[0;32m      5\u001b[0m \u001b[0mprincipal\u001b[0m \u001b[1;33m=\u001b[0m \u001b[0mclient\u001b[0m\u001b[1;33m.\u001b[0m\u001b[0mprincipal\u001b[0m\u001b[1;33m(\u001b[0m\u001b[1;33m)\u001b[0m\u001b[1;33m\u001b[0m\u001b[1;33m\u001b[0m\u001b[0m\n",
      "\u001b[1;31mNameError\u001b[0m: name 'username' is not defined"
     ]
    }
   ],
   "source": [
    "# Verbindungsaufbau zur Nextcloud der Veranstaltung SI20/21\n",
    "url = \"https://\" + username + \":\" + password + \"@next.social-robot.info/nc/remote.php/dav\"\n",
    "# open connection to calendar\n",
    "client = caldav.DAVClient(url)\n",
    "principal = client.principal()\n",
    "calendars = principal.calendars()"
   ]
  },
  {
   "cell_type": "markdown",
   "metadata": {},
   "source": [
    "Nach dem erfolgreichen Verbindungsaufbau und Abfragen von Events wurde der anschließende Code aus der Datei \"caldav_nextcloud_starterpy.py\" in den späteren MyCroft Skill übertragen. "
   ]
  },
  {
   "cell_type": "markdown",
   "metadata": {},
   "source": [
    "2. Einlesen in die MyCroftSkill Architektur \n",
    "Die Infos dazu wurden aus den Inhalten der MyCroft AI Dokumentation genommen https://mycroft-ai.gitbook.io/docs/\n",
    "\n",
    "3. Erstellung eines leeren Skills, welcher mit dem GitHub Account verknüpft ist. \n",
    "Erstellung des Skills über das Mycroft Kommando \"msk\"\n",
    "(siehe detailierte Beschreibung unter https://mycroft-ai.gitbook.io/docs/skill-development/introduction/your-first-skill)\n",
    "**Beachten Sie das Problem der Skillerstellung am Ende dieser Dokumentation**\n",
    "\n",
    "4. Bearbeitung / Erstllung des Skills \"nextappointment\"\n",
    "Der Aufruf der Caldav Kalenderdaten wurde in die Datei \"\\_init\\_.py\" übertragen. \n",
    "\n",
    "Die Datei \"\\_init\\_'.py\" stellt das Herzstück des MyCroft Skills dar. Dort werden die verschiedenen Eingaben / \"Utterances\" des Nutzers auf bestimmte Wortfolgen/ Phrasen überprüft und durch die \"Handler\"- Funktionen bearbeitet. Am Ende wird dem Nutzer die gewünschte Ausgabe per Dialog zurückgegeben. \n",
    "\n"
   ]
  },
  {
   "cell_type": "code",
   "execution_count": null,
   "metadata": {},
   "outputs": [],
   "source": [
    " @intent_file_handler('nextapp.intent')\n",
    "    def handle_nextapp(self, message):\n",
    "        try:\n",
    "            #Überprüfung des Kalenders ob Events am heutigen Tag eingetragen sind.\n",
    "            if len(calendars) > 0:\n",
    "                calendar = calendars[0]\n",
    "                events = calendar.date_search(today,\n",
    "                                              datetime.combine(today, time(23, 59, 59, 59)))  # Events am heutigen Tag\n",
    "                #Falls keine Events vorhanden sind, soll die Ausgabe \"Keine Events eingetragen\" kommen.\n",
    "                if len(events) == 0:\n",
    "                    self.speak_dialog(\"no_event\")\n",
    "                else:\n",
    "                    #Aufllistung der heutigen Events:\n",
    "                    print(\"Total {num_events} events:\".format(num_events=len(events)))\n",
    "                    listNextAppointments = []"
   ]
  },
  {
   "cell_type": "markdown",
   "metadata": {},
   "source": [
    "Dort wird der Kalendar am heutigen Tag auf Events überprüft"
   ]
  },
  {
   "cell_type": "code",
   "execution_count": null,
   "metadata": {},
   "outputs": [],
   "source": [
    "                    for event in events:\n",
    "                        event.load()\n",
    "                        e = event.instance.vevent\n",
    "                        #Einlesen der Eventzeit\n",
    "                        eventTime = e.dtstart.value.strftime(\"%H:%M\")\n",
    "                        eventVal = \"{eventTime} {eventSummary}\".format(eventTime=eventTime,\n",
    "                                                                       eventSummary=e.summary.value)\n",
    "                        #Überprüfung der aktuellen Zeit.\n",
    "                        aktuelleZeit = datetime.now().strftime(\"%H:%M\")\n",
    "                        #Falls der Termin nach der aktuellen Uhrzeit ist wird er der Liste hinzugefügt.\n",
    "                        if aktuelleZeit < eventTime:\n",
    "                            listNextAppointments.append((eventVal))\n",
    "                            print(listNextAppointments)\n",
    "                        # Falls ein Tagesevent stattfindet soll dies auch dem Nutzer mitgeteilt werden.\n",
    "                        elif e.dtstart.value.strftime(\"%H:%M\") == \"00:00\":\n",
    "                            dailyEventSum = \"{eventSummary}\".format(eventSummary=e.summary.value)\n",
    "                            response = {'dailyEventDialog':dailyEventSum}\n",
    "                            self.speak_dialog('daily_event', data = response)"
   ]
  },
  {
   "cell_type": "markdown",
   "metadata": {},
   "source": [
    "Es findet eine Unterscheidung zwischen Tagesevents und zeitlich festgelgten Events statt. Dadurch wird einer Liste alle Events weitergeben, welche am heutigen Tag noch stattfinden werden. Diese werden sortiert und der nächste Termin wird nur dem Nutzer ausgegeben. "
   ]
  },
  {
   "cell_type": "code",
   "execution_count": null,
   "metadata": {},
   "outputs": [],
   "source": [
    "                        else:\n",
    "                        #Falls kein weiterer Termin heute mehr vorhanden ist, soll demm Nutzer gesagt werden, dass\n",
    "                        # alle Events schon durch sind.\n",
    "                            self.speak_dialog('events_done')\n",
    "                    listNextAppointments.sort()\n",
    "                    # Rückgabewert an den Nutzer wird das nächste Event sein.\n",
    "                    nextAppointmentValue = listNextAppointments[0]\n",
    "                    response ={'nextAppointment':nextAppointmentValue}\n",
    "                    #Die vordefinierte Antwort + das nächste Event werden von MyCroft an den Nutzer übergeben..\n",
    "                    self.speak_dialog('nextapp', data=response)"
   ]
  },
  {
   "cell_type": "markdown",
   "metadata": {},
   "source": [
    "### Funktionsweise der Rückgabe an den Nutzer"
   ]
  },
  {
   "cell_type": "markdown",
   "metadata": {},
   "source": [
    "Wir haben als Rückgabewert die Uhrzeit + den Eventnamen als String ermittelt und geben diesen String dem Dialog Objekt als Keyvalue zurück  "
   ]
  },
  {
   "cell_type": "code",
   "execution_count": null,
   "metadata": {},
   "outputs": [],
   "source": [
    "response ={'nextAppointment':nextAppointmentValue}\n",
    "self.speak_dialog('nextapp', data=response)"
   ]
  },
  {
   "cell_type": "markdown",
   "metadata": {},
   "source": [
    "Dieses \"data\" Objekt wird dem Dialog \"nextapp\" übergeben. Dabei ist es wichtig, dass die \"Key\"-Bezeichnung die gleiche ist, wie in der Dialog-Datei selbst. "
   ]
  },
  {
   "cell_type": "markdown",
   "metadata": {},
   "source": [
    "**Inhalt der Datei \"nextapp.dialog\":** \n",
    "\n",
    "This is your next appointment today {nextAppointment}\n",
    "\n",
    "You have appointments on {nextAppointment} today\n",
    "\n",
    "The next thing today is {nextAppointment}"
   ]
  },
  {
   "cell_type": "markdown",
   "metadata": {},
   "source": [
    "**Somit würde ein Dialog zwischen MyCroft und dem Nutzer folgendes ergeben:**  "
   ]
  },
  {
   "cell_type": "markdown",
   "metadata": {},
   "source": [
    "User: \"Hey mycroft, whats my next appointment?\"\n",
    "\n",
    "Mycroft: \"This is your next appointment today {nextAppointment} \"\n",
    "    \n",
    "**Annnahme es gibt ein Event am 05.02.2021 mit dem Titel \"Abgabe Si\" um \"18 Uhr\"** \n",
    "\n",
    "Mycroft: \"This is your next appointment today 18:00 Abgabe Si \"\n",
    "\n"
   ]
  },
  {
   "cell_type": "markdown",
   "metadata": {},
   "source": [
    "### Bonusaufgabe Abfrage an einem bestimmten Datum"
   ]
  },
  {
   "cell_type": "markdown",
   "metadata": {},
   "source": [
    "Für die Datumsabfrage wurde ein weiterer Intenthandler dem Skill hinzugefügt, welcher die gleiche Logik für die Rückgabe der Events besitzt. Dabei wurde noch darauf geachtet, dass auch hier wieder zwischen Tagesevents und zeitliche Events unterschieden wird. Nur bei dieser Abfrage werdne alle Events ausgegeben und nicht nur das nächste Event.\n",
    "\n",
    "Dabaei galt es darauf zu achten, dass der User MyCroft ein Datum vorgibt. Dieses soll im Intent erhalten werden. \n"
   ]
  },
  {
   "cell_type": "markdown",
   "metadata": {},
   "source": [
    "**Inhalt der Datei \"events_at.intent\":** \n",
    "\n",
    "events at {datum}"
   ]
  },
  {
   "cell_type": "markdown",
   "metadata": {},
   "source": [
    "Das erhaltene Datum wird in Form eines Stringvalues an MyCroft übergeben. Zur bestimmung des Kalendartages / Zeitraumes wird der Wert zu einem Datum formatiert und als Start- und Endzeit festgelgt."
   ]
  },
  {
   "cell_type": "code",
   "execution_count": null,
   "metadata": {},
   "outputs": [],
   "source": [
    "@intent_file_handler('events_at.intent')\n",
    "    def handle_events_at(self, message):\n",
    "        #Abfrage des gesuchten Datums aus der verbalen Nutzer Anfrage / des Nutzerintents\n",
    "        intentDatum = message.data.get('datum')\n",
    "        setDatum = datetime.strptime(intentDatum, \"%d-%m-%Y\")\n",
    "        endTime = datetime.combine(setDatum, time(23, 59, 59, 59))\n",
    "        ...\n",
    "        ...\n",
    "        events = calendar.date_search(start=setDatum,end=endTime)"
   ]
  },
  {
   "cell_type": "markdown",
   "metadata": {},
   "source": [
    "Dadurch wir eben der bestimmte Tag nur überprüft und die dortigen Events wie auch bei der Vorherigen Aufgabe gefiltert und dementsprechend wieder als Dialog zurückgeben. Mit der fast gleichen Logik des Codes.  "
   ]
  },
  {
   "cell_type": "markdown",
   "metadata": {},
   "source": [
    "## Fertiger Skill \n",
    "\n",
    "Der erstellte Skill ist momentan unter dem Repro https://github.com/RB072/nextapp-skill.git zu finden.\n",
    "\n",
    "Der Skill kann einfach im Verzeichnis /mycroft-core mit dem Befehl: \"msm install https://github.com/RB072/nextapp-skill.git\"\n",
    "installieren und dann eben auch aus Sicherheitsgrüden die Credentials \"username\" und \"password\" für den Verbindungsaufbau ändern. "
   ]
  },
  {
   "cell_type": "markdown",
   "metadata": {},
   "source": [
    "### Probleme bei der Bearbeitung"
   ]
  },
  {
   "cell_type": "markdown",
   "metadata": {},
   "source": [
    "**Caldav Installation:**\n",
    "\n",
    "Installation des Python Caldav Modul auf dem Raspberry PI. Dies konnte mit dem Kommando \"./mycroft-pip install caldav\" im bin-Verzeichnis gelöst werden. Wichtig dabei ist das \"./\" nicht zu vergessen. \n",
    "\n",
    "**Skillerstellung:**\n",
    "\n",
    "Auch die Erstellung der Skills über den Befehl \"mycroft-msk create {skillname}\" funktionierte nach der Online-Dokumentation nicht ohne Probleme. Unsere Lösung dafür war es auf dem RaspberryPi in das Verzeichnis der Skills \"(/mycroft-core/skills)\" direkt zu gehen und dort nur den Befehl \"msk create {skillname}\" einzugeben und auszuführen. \n",
    "\n",
    "**Die Datumserkennug:**\n",
    "\n",
    "Bei der verbalen Eingabe über das Mikrofon an MyCroft konnte er oftmals nicht meine Datumseingabe als \"Utterance\" verstehen. Wörter / Sätze wurden ohne Problem verstanden nur bei Zahlenfolgen tat sich die Erkennung schwer. Daher wurde die Datumseingabe immer händisch in der Console eingegeben mit z.B. \"events at 28-01-2021\"\n",
    "\n"
   ]
  },
  {
   "cell_type": "code",
   "execution_count": null,
   "metadata": {},
   "outputs": [],
   "source": []
  }
 ],
 "metadata": {
  "kernelspec": {
   "display_name": "Python 3",
   "language": "python",
   "name": "python3"
  },
  "language_info": {
   "codemirror_mode": {
    "name": "ipython",
    "version": 3
   },
   "file_extension": ".py",
   "mimetype": "text/x-python",
   "name": "python",
   "nbconvert_exporter": "python",
   "pygments_lexer": "ipython3",
   "version": "3.8.3"
  }
 },
 "nbformat": 4,
 "nbformat_minor": 4
}
